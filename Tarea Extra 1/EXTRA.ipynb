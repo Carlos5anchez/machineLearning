{
 "cells": [
  {
   "cell_type": "markdown",
   "metadata": {},
   "source": [
    "# Import libraries"
   ]
  },
  {
   "cell_type": "code",
   "execution_count": 12,
   "metadata": {},
   "outputs": [],
   "source": [
    "import pandas as pd"
   ]
  },
  {
   "cell_type": "markdown",
   "metadata": {},
   "source": [
    "# Load Data Set"
   ]
  },
  {
   "cell_type": "code",
   "execution_count": 13,
   "metadata": {},
   "outputs": [
    {
     "data": {
      "text/html": [
       "<div>\n",
       "<style scoped>\n",
       "    .dataframe tbody tr th:only-of-type {\n",
       "        vertical-align: middle;\n",
       "    }\n",
       "\n",
       "    .dataframe tbody tr th {\n",
       "        vertical-align: top;\n",
       "    }\n",
       "\n",
       "    .dataframe thead th {\n",
       "        text-align: right;\n",
       "    }\n",
       "</style>\n",
       "<table border=\"1\" class=\"dataframe\">\n",
       "  <thead>\n",
       "    <tr style=\"text-align: right;\">\n",
       "      <th></th>\n",
       "      <th>Date</th>\n",
       "      <th>Close/Last</th>\n",
       "      <th>Volume</th>\n",
       "      <th>Open</th>\n",
       "      <th>High</th>\n",
       "      <th>Low</th>\n",
       "    </tr>\n",
       "  </thead>\n",
       "  <tbody>\n",
       "    <tr>\n",
       "      <th>0</th>\n",
       "      <td>12/02/2022</td>\n",
       "      <td>$105.05</td>\n",
       "      <td>7916878</td>\n",
       "      <td>$102.02</td>\n",
       "      <td>$105.54</td>\n",
       "      <td>$101.82</td>\n",
       "    </tr>\n",
       "    <tr>\n",
       "      <th>1</th>\n",
       "      <td>12/01/2022</td>\n",
       "      <td>$103.37</td>\n",
       "      <td>7452313</td>\n",
       "      <td>$102.33</td>\n",
       "      <td>$103.56</td>\n",
       "      <td>$101.95</td>\n",
       "    </tr>\n",
       "    <tr>\n",
       "      <th>2</th>\n",
       "      <td>11/30/2022</td>\n",
       "      <td>$102.2</td>\n",
       "      <td>15000770</td>\n",
       "      <td>$99.05</td>\n",
       "      <td>$102.56</td>\n",
       "      <td>$98.52</td>\n",
       "    </tr>\n",
       "    <tr>\n",
       "      <th>3</th>\n",
       "      <td>11/29/2022</td>\n",
       "      <td>$98.66</td>\n",
       "      <td>4423921</td>\n",
       "      <td>$98.96</td>\n",
       "      <td>$99.33</td>\n",
       "      <td>$98.2</td>\n",
       "    </tr>\n",
       "    <tr>\n",
       "      <th>4</th>\n",
       "      <td>11/28/2022</td>\n",
       "      <td>$98.66</td>\n",
       "      <td>5257862</td>\n",
       "      <td>$98.99</td>\n",
       "      <td>$100.16</td>\n",
       "      <td>$98.56</td>\n",
       "    </tr>\n",
       "    <tr>\n",
       "      <th>...</th>\n",
       "      <td>...</td>\n",
       "      <td>...</td>\n",
       "      <td>...</td>\n",
       "      <td>...</td>\n",
       "      <td>...</td>\n",
       "      <td>...</td>\n",
       "    </tr>\n",
       "    <tr>\n",
       "      <th>121</th>\n",
       "      <td>06/10/2022</td>\n",
       "      <td>$75.67</td>\n",
       "      <td>8695476</td>\n",
       "      <td>$77.02</td>\n",
       "      <td>$77.79</td>\n",
       "      <td>$75.66</td>\n",
       "    </tr>\n",
       "    <tr>\n",
       "      <th>122</th>\n",
       "      <td>06/09/2022</td>\n",
       "      <td>$78.91</td>\n",
       "      <td>13248100</td>\n",
       "      <td>$77.97</td>\n",
       "      <td>$80.27</td>\n",
       "      <td>$77.73</td>\n",
       "    </tr>\n",
       "    <tr>\n",
       "      <th>123</th>\n",
       "      <td>06/08/2022</td>\n",
       "      <td>$78.47</td>\n",
       "      <td>5178253</td>\n",
       "      <td>$78.9</td>\n",
       "      <td>$79.7698</td>\n",
       "      <td>$78.26</td>\n",
       "    </tr>\n",
       "    <tr>\n",
       "      <th>124</th>\n",
       "      <td>06/07/2022</td>\n",
       "      <td>$79.47</td>\n",
       "      <td>5517101</td>\n",
       "      <td>$78.57</td>\n",
       "      <td>$79.75</td>\n",
       "      <td>$78.26</td>\n",
       "    </tr>\n",
       "    <tr>\n",
       "      <th>125</th>\n",
       "      <td>06/06/2022</td>\n",
       "      <td>$78.98</td>\n",
       "      <td>7239429</td>\n",
       "      <td>$79.7</td>\n",
       "      <td>$81.2999</td>\n",
       "      <td>$78.53</td>\n",
       "    </tr>\n",
       "  </tbody>\n",
       "</table>\n",
       "<p>126 rows × 6 columns</p>\n",
       "</div>"
      ],
      "text/plain": [
       "           Date Close/Last    Volume     Open      High      Low\n",
       "0    12/02/2022    $105.05   7916878  $102.02   $105.54  $101.82\n",
       "1    12/01/2022    $103.37   7452313  $102.33   $103.56  $101.95\n",
       "2    11/30/2022     $102.2  15000770   $99.05   $102.56   $98.52\n",
       "3    11/29/2022     $98.66   4423921   $98.96    $99.33    $98.2\n",
       "4    11/28/2022     $98.66   5257862   $98.99   $100.16   $98.56\n",
       "..          ...        ...       ...      ...       ...      ...\n",
       "121  06/10/2022     $75.67   8695476   $77.02    $77.79   $75.66\n",
       "122  06/09/2022     $78.91  13248100   $77.97    $80.27   $77.73\n",
       "123  06/08/2022     $78.47   5178253    $78.9  $79.7698   $78.26\n",
       "124  06/07/2022     $79.47   5517101   $78.57    $79.75   $78.26\n",
       "125  06/06/2022     $78.98   7239429    $79.7  $81.2999   $78.53\n",
       "\n",
       "[126 rows x 6 columns]"
      ]
     },
     "execution_count": 13,
     "metadata": {},
     "output_type": "execute_result"
    }
   ],
   "source": [
    "# Load data from a CSV file into a Pandas DataFrame\n",
    "data = pd.read_csv(\"./Nasdaq.csv\")\n",
    "data"
   ]
  },
  {
   "cell_type": "code",
   "execution_count": 14,
   "metadata": {},
   "outputs": [
    {
     "name": "stdout",
     "output_type": "stream",
     "text": [
      "<class 'pandas.core.frame.DataFrame'>\n",
      "RangeIndex: 126 entries, 0 to 125\n",
      "Data columns (total 6 columns):\n",
      " #   Column      Non-Null Count  Dtype \n",
      "---  ------      --------------  ----- \n",
      " 0   Date        126 non-null    object\n",
      " 1   Close/Last  126 non-null    object\n",
      " 2   Volume      126 non-null    int64 \n",
      " 3   Open        126 non-null    object\n",
      " 4   High        126 non-null    object\n",
      " 5   Low         126 non-null    object\n",
      "dtypes: int64(1), object(5)\n",
      "memory usage: 6.0+ KB\n"
     ]
    }
   ],
   "source": [
    "data.info()"
   ]
  },
  {
   "cell_type": "markdown",
   "metadata": {},
   "source": [
    "Remove '$' symbol from our dataset and convert to float"
   ]
  },
  {
   "cell_type": "code",
   "execution_count": 15,
   "metadata": {},
   "outputs": [
    {
     "name": "stdout",
     "output_type": "stream",
     "text": [
      "<class 'pandas.core.frame.DataFrame'>\n",
      "RangeIndex: 126 entries, 0 to 125\n",
      "Data columns (total 8 columns):\n",
      " #   Column      Non-Null Count  Dtype  \n",
      "---  ------      --------------  -----  \n",
      " 0   Close/Last  126 non-null    float64\n",
      " 1   Volume      126 non-null    int64  \n",
      " 2   Open        126 non-null    float64\n",
      " 3   High        126 non-null    float64\n",
      " 4   Low         126 non-null    float64\n",
      " 5   day         126 non-null    int32  \n",
      " 6   mounth      126 non-null    int32  \n",
      " 7   year        126 non-null    int32  \n",
      "dtypes: float64(4), int32(3), int64(1)\n",
      "memory usage: 6.5 KB\n"
     ]
    }
   ],
   "source": [
    "data['Close/Last'] = data['Close/Last'].str.replace('$', '').astype(float)\n",
    "data['Open'] = data['Open'].str.replace('$', '').astype(float)\n",
    "data['High'] = data['High'].str.replace('$', '').astype(float)\n",
    "data['Low'] = data['Low'].str.replace('$', '').astype(float)\n",
    "data['day']=pd.to_datetime(data['Date']).dt.day\n",
    "data['mounth']=pd.to_datetime(data['Date']).dt.month\n",
    "data['year']=pd.to_datetime(data['Date']).dt.year\n",
    "data.drop(['Date'], axis=1, inplace=True)\n",
    "data.info()"
   ]
  },
  {
   "cell_type": "code",
   "execution_count": 16,
   "metadata": {},
   "outputs": [
    {
     "data": {
      "text/html": [
       "<div>\n",
       "<style scoped>\n",
       "    .dataframe tbody tr th:only-of-type {\n",
       "        vertical-align: middle;\n",
       "    }\n",
       "\n",
       "    .dataframe tbody tr th {\n",
       "        vertical-align: top;\n",
       "    }\n",
       "\n",
       "    .dataframe thead th {\n",
       "        text-align: right;\n",
       "    }\n",
       "</style>\n",
       "<table border=\"1\" class=\"dataframe\">\n",
       "  <thead>\n",
       "    <tr style=\"text-align: right;\">\n",
       "      <th></th>\n",
       "      <th>Close/Last</th>\n",
       "      <th>Volume</th>\n",
       "      <th>Open</th>\n",
       "      <th>High</th>\n",
       "      <th>Low</th>\n",
       "      <th>day</th>\n",
       "      <th>mounth</th>\n",
       "      <th>year</th>\n",
       "    </tr>\n",
       "  </thead>\n",
       "  <tbody>\n",
       "    <tr>\n",
       "      <th>0</th>\n",
       "      <td>105.05</td>\n",
       "      <td>7916878</td>\n",
       "      <td>102.02</td>\n",
       "      <td>105.5400</td>\n",
       "      <td>101.82</td>\n",
       "      <td>2</td>\n",
       "      <td>12</td>\n",
       "      <td>2022</td>\n",
       "    </tr>\n",
       "    <tr>\n",
       "      <th>1</th>\n",
       "      <td>103.37</td>\n",
       "      <td>7452313</td>\n",
       "      <td>102.33</td>\n",
       "      <td>103.5600</td>\n",
       "      <td>101.95</td>\n",
       "      <td>1</td>\n",
       "      <td>12</td>\n",
       "      <td>2022</td>\n",
       "    </tr>\n",
       "    <tr>\n",
       "      <th>2</th>\n",
       "      <td>102.20</td>\n",
       "      <td>15000770</td>\n",
       "      <td>99.05</td>\n",
       "      <td>102.5600</td>\n",
       "      <td>98.52</td>\n",
       "      <td>30</td>\n",
       "      <td>11</td>\n",
       "      <td>2022</td>\n",
       "    </tr>\n",
       "    <tr>\n",
       "      <th>3</th>\n",
       "      <td>98.66</td>\n",
       "      <td>4423921</td>\n",
       "      <td>98.96</td>\n",
       "      <td>99.3300</td>\n",
       "      <td>98.20</td>\n",
       "      <td>29</td>\n",
       "      <td>11</td>\n",
       "      <td>2022</td>\n",
       "    </tr>\n",
       "    <tr>\n",
       "      <th>4</th>\n",
       "      <td>98.66</td>\n",
       "      <td>5257862</td>\n",
       "      <td>98.99</td>\n",
       "      <td>100.1600</td>\n",
       "      <td>98.56</td>\n",
       "      <td>28</td>\n",
       "      <td>11</td>\n",
       "      <td>2022</td>\n",
       "    </tr>\n",
       "    <tr>\n",
       "      <th>...</th>\n",
       "      <td>...</td>\n",
       "      <td>...</td>\n",
       "      <td>...</td>\n",
       "      <td>...</td>\n",
       "      <td>...</td>\n",
       "      <td>...</td>\n",
       "      <td>...</td>\n",
       "      <td>...</td>\n",
       "    </tr>\n",
       "    <tr>\n",
       "      <th>121</th>\n",
       "      <td>75.67</td>\n",
       "      <td>8695476</td>\n",
       "      <td>77.02</td>\n",
       "      <td>77.7900</td>\n",
       "      <td>75.66</td>\n",
       "      <td>10</td>\n",
       "      <td>6</td>\n",
       "      <td>2022</td>\n",
       "    </tr>\n",
       "    <tr>\n",
       "      <th>122</th>\n",
       "      <td>78.91</td>\n",
       "      <td>13248100</td>\n",
       "      <td>77.97</td>\n",
       "      <td>80.2700</td>\n",
       "      <td>77.73</td>\n",
       "      <td>9</td>\n",
       "      <td>6</td>\n",
       "      <td>2022</td>\n",
       "    </tr>\n",
       "    <tr>\n",
       "      <th>123</th>\n",
       "      <td>78.47</td>\n",
       "      <td>5178253</td>\n",
       "      <td>78.90</td>\n",
       "      <td>79.7698</td>\n",
       "      <td>78.26</td>\n",
       "      <td>8</td>\n",
       "      <td>6</td>\n",
       "      <td>2022</td>\n",
       "    </tr>\n",
       "    <tr>\n",
       "      <th>124</th>\n",
       "      <td>79.47</td>\n",
       "      <td>5517101</td>\n",
       "      <td>78.57</td>\n",
       "      <td>79.7500</td>\n",
       "      <td>78.26</td>\n",
       "      <td>7</td>\n",
       "      <td>6</td>\n",
       "      <td>2022</td>\n",
       "    </tr>\n",
       "    <tr>\n",
       "      <th>125</th>\n",
       "      <td>78.98</td>\n",
       "      <td>7239429</td>\n",
       "      <td>79.70</td>\n",
       "      <td>81.2999</td>\n",
       "      <td>78.53</td>\n",
       "      <td>6</td>\n",
       "      <td>6</td>\n",
       "      <td>2022</td>\n",
       "    </tr>\n",
       "  </tbody>\n",
       "</table>\n",
       "<p>126 rows × 8 columns</p>\n",
       "</div>"
      ],
      "text/plain": [
       "     Close/Last    Volume    Open      High     Low  day  mounth  year\n",
       "0        105.05   7916878  102.02  105.5400  101.82    2      12  2022\n",
       "1        103.37   7452313  102.33  103.5600  101.95    1      12  2022\n",
       "2        102.20  15000770   99.05  102.5600   98.52   30      11  2022\n",
       "3         98.66   4423921   98.96   99.3300   98.20   29      11  2022\n",
       "4         98.66   5257862   98.99  100.1600   98.56   28      11  2022\n",
       "..          ...       ...     ...       ...     ...  ...     ...   ...\n",
       "121       75.67   8695476   77.02   77.7900   75.66   10       6  2022\n",
       "122       78.91  13248100   77.97   80.2700   77.73    9       6  2022\n",
       "123       78.47   5178253   78.90   79.7698   78.26    8       6  2022\n",
       "124       79.47   5517101   78.57   79.7500   78.26    7       6  2022\n",
       "125       78.98   7239429   79.70   81.2999   78.53    6       6  2022\n",
       "\n",
       "[126 rows x 8 columns]"
      ]
     },
     "execution_count": 16,
     "metadata": {},
     "output_type": "execute_result"
    }
   ],
   "source": [
    "data"
   ]
  },
  {
   "cell_type": "markdown",
   "metadata": {},
   "source": [
    "# Data"
   ]
  },
  {
   "cell_type": "code",
   "execution_count": 17,
   "metadata": {},
   "outputs": [],
   "source": [
    "X=data.drop(['Volume'],axis=1)\n",
    "y=data[['Volume']]"
   ]
  },
  {
   "cell_type": "code",
   "execution_count": 18,
   "metadata": {},
   "outputs": [],
   "source": [
    "from sklearn.preprocessing import StandardScaler\n",
    "scaler = StandardScaler()\n",
    "X = scaler.fit_transform(X)\n",
    "y=scaler.fit_transform(y)"
   ]
  },
  {
   "cell_type": "code",
   "execution_count": 24,
   "metadata": {},
   "outputs": [],
   "source": [
    "X_train, X_test, y_train, y_test = train_test_split(X, y, test_size=0.3, random_state=42)\n"
   ]
  },
  {
   "cell_type": "code",
   "execution_count": 25,
   "metadata": {},
   "outputs": [
    {
     "name": "stderr",
     "output_type": "stream",
     "text": [
      "c:\\Users\\carlo\\anaconda3\\envs\\tensor\\lib\\site-packages\\sklearn\\utils\\validation.py:1183: DataConversionWarning: A column-vector y was passed when a 1d array was expected. Please change the shape of y to (n_samples, ), for example using ravel().\n",
      "  y = column_or_1d(y, warn=True)\n"
     ]
    },
    {
     "ename": "ValueError",
     "evalue": "Unknown label type: continuous. Maybe you are trying to fit a classifier, which expects discrete classes on a regression target with continuous values.",
     "output_type": "error",
     "traceback": [
      "\u001b[1;31m---------------------------------------------------------------------------\u001b[0m",
      "\u001b[1;31mValueError\u001b[0m                                Traceback (most recent call last)",
      "\u001b[1;32mc:\\Users\\carlo\\Desktop\\Maestria\\MachineLearning\\Tarea Extra 1\\EXTRA.ipynb Cell 13\u001b[0m line \u001b[0;36m4\n\u001b[0;32m      <a href='vscode-notebook-cell:/c%3A/Users/carlo/Desktop/Maestria/MachineLearning/Tarea%20Extra%201/EXTRA.ipynb#X16sZmlsZQ%3D%3D?line=1'>2</a>\u001b[0m \u001b[39mfrom\u001b[39;00m \u001b[39msklearn\u001b[39;00m\u001b[39m.\u001b[39;00m\u001b[39mlinear_model\u001b[39;00m \u001b[39mimport\u001b[39;00m LogisticRegression\n\u001b[0;32m      <a href='vscode-notebook-cell:/c%3A/Users/carlo/Desktop/Maestria/MachineLearning/Tarea%20Extra%201/EXTRA.ipynb#X16sZmlsZQ%3D%3D?line=2'>3</a>\u001b[0m clf \u001b[39m=\u001b[39m LogisticRegression(random_state\u001b[39m=\u001b[39m\u001b[39m42\u001b[39m)\n\u001b[1;32m----> <a href='vscode-notebook-cell:/c%3A/Users/carlo/Desktop/Maestria/MachineLearning/Tarea%20Extra%201/EXTRA.ipynb#X16sZmlsZQ%3D%3D?line=3'>4</a>\u001b[0m clf\u001b[39m.\u001b[39;49mfit(X_train, y_train)\n",
      "File \u001b[1;32mc:\\Users\\carlo\\anaconda3\\envs\\tensor\\lib\\site-packages\\sklearn\\base.py:1152\u001b[0m, in \u001b[0;36m_fit_context.<locals>.decorator.<locals>.wrapper\u001b[1;34m(estimator, *args, **kwargs)\u001b[0m\n\u001b[0;32m   1145\u001b[0m     estimator\u001b[39m.\u001b[39m_validate_params()\n\u001b[0;32m   1147\u001b[0m \u001b[39mwith\u001b[39;00m config_context(\n\u001b[0;32m   1148\u001b[0m     skip_parameter_validation\u001b[39m=\u001b[39m(\n\u001b[0;32m   1149\u001b[0m         prefer_skip_nested_validation \u001b[39mor\u001b[39;00m global_skip_validation\n\u001b[0;32m   1150\u001b[0m     )\n\u001b[0;32m   1151\u001b[0m ):\n\u001b[1;32m-> 1152\u001b[0m     \u001b[39mreturn\u001b[39;00m fit_method(estimator, \u001b[39m*\u001b[39margs, \u001b[39m*\u001b[39m\u001b[39m*\u001b[39mkwargs)\n",
      "File \u001b[1;32mc:\\Users\\carlo\\anaconda3\\envs\\tensor\\lib\\site-packages\\sklearn\\linear_model\\_logistic.py:1216\u001b[0m, in \u001b[0;36mLogisticRegression.fit\u001b[1;34m(self, X, y, sample_weight)\u001b[0m\n\u001b[0;32m   1206\u001b[0m     _dtype \u001b[39m=\u001b[39m [np\u001b[39m.\u001b[39mfloat64, np\u001b[39m.\u001b[39mfloat32]\n\u001b[0;32m   1208\u001b[0m X, y \u001b[39m=\u001b[39m \u001b[39mself\u001b[39m\u001b[39m.\u001b[39m_validate_data(\n\u001b[0;32m   1209\u001b[0m     X,\n\u001b[0;32m   1210\u001b[0m     y,\n\u001b[1;32m   (...)\u001b[0m\n\u001b[0;32m   1214\u001b[0m     accept_large_sparse\u001b[39m=\u001b[39msolver \u001b[39mnot\u001b[39;00m \u001b[39min\u001b[39;00m [\u001b[39m\"\u001b[39m\u001b[39mliblinear\u001b[39m\u001b[39m\"\u001b[39m, \u001b[39m\"\u001b[39m\u001b[39msag\u001b[39m\u001b[39m\"\u001b[39m, \u001b[39m\"\u001b[39m\u001b[39msaga\u001b[39m\u001b[39m\"\u001b[39m],\n\u001b[0;32m   1215\u001b[0m )\n\u001b[1;32m-> 1216\u001b[0m check_classification_targets(y)\n\u001b[0;32m   1217\u001b[0m \u001b[39mself\u001b[39m\u001b[39m.\u001b[39mclasses_ \u001b[39m=\u001b[39m np\u001b[39m.\u001b[39munique(y)\n\u001b[0;32m   1219\u001b[0m multi_class \u001b[39m=\u001b[39m _check_multi_class(\u001b[39mself\u001b[39m\u001b[39m.\u001b[39mmulti_class, solver, \u001b[39mlen\u001b[39m(\u001b[39mself\u001b[39m\u001b[39m.\u001b[39mclasses_))\n",
      "File \u001b[1;32mc:\\Users\\carlo\\anaconda3\\envs\\tensor\\lib\\site-packages\\sklearn\\utils\\multiclass.py:216\u001b[0m, in \u001b[0;36mcheck_classification_targets\u001b[1;34m(y)\u001b[0m\n\u001b[0;32m    208\u001b[0m y_type \u001b[39m=\u001b[39m type_of_target(y, input_name\u001b[39m=\u001b[39m\u001b[39m\"\u001b[39m\u001b[39my\u001b[39m\u001b[39m\"\u001b[39m)\n\u001b[0;32m    209\u001b[0m \u001b[39mif\u001b[39;00m y_type \u001b[39mnot\u001b[39;00m \u001b[39min\u001b[39;00m [\n\u001b[0;32m    210\u001b[0m     \u001b[39m\"\u001b[39m\u001b[39mbinary\u001b[39m\u001b[39m\"\u001b[39m,\n\u001b[0;32m    211\u001b[0m     \u001b[39m\"\u001b[39m\u001b[39mmulticlass\u001b[39m\u001b[39m\"\u001b[39m,\n\u001b[1;32m   (...)\u001b[0m\n\u001b[0;32m    214\u001b[0m     \u001b[39m\"\u001b[39m\u001b[39mmultilabel-sequences\u001b[39m\u001b[39m\"\u001b[39m,\n\u001b[0;32m    215\u001b[0m ]:\n\u001b[1;32m--> 216\u001b[0m     \u001b[39mraise\u001b[39;00m \u001b[39mValueError\u001b[39;00m(\n\u001b[0;32m    217\u001b[0m         \u001b[39mf\u001b[39m\u001b[39m\"\u001b[39m\u001b[39mUnknown label type: \u001b[39m\u001b[39m{\u001b[39;00my_type\u001b[39m}\u001b[39;00m\u001b[39m. Maybe you are trying to fit a \u001b[39m\u001b[39m\"\u001b[39m\n\u001b[0;32m    218\u001b[0m         \u001b[39m\"\u001b[39m\u001b[39mclassifier, which expects discrete classes on a \u001b[39m\u001b[39m\"\u001b[39m\n\u001b[0;32m    219\u001b[0m         \u001b[39m\"\u001b[39m\u001b[39mregression target with continuous values.\u001b[39m\u001b[39m\"\u001b[39m\n\u001b[0;32m    220\u001b[0m     )\n",
      "\u001b[1;31mValueError\u001b[0m: Unknown label type: continuous. Maybe you are trying to fit a classifier, which expects discrete classes on a regression target with continuous values."
     ]
    }
   ],
   "source": [
    "\n",
    "from sklearn.model_selection import train_test_split\n",
    "from sklearn.linear_model import LogisticRegression\n",
    "clf = LogisticRegression(random_state=42)\n",
    "clf.fit(X_train, y_train)\n"
   ]
  },
  {
   "cell_type": "code",
   "execution_count": null,
   "metadata": {},
   "outputs": [
    {
     "data": {
      "image/png": "[encoded data removed]",
      "text/plain": [
       "<Figure size 1200x600 with 1 Axes>"
      ]
     },
     "metadata": {},
     "output_type": "display_data"
    }
   ],
   "source": [
    "import matplotlib.pyplot as plt\n",
    "import seaborn as sns\n",
    "\n",
    "# Convertir y_test y las predicciones a arrays unidimensionales\n",
    "real_values = y_test.iloc[:, 0].values #Valores de Volumen\n",
    "predict_values = clf.predict(X_test) #Valores predichos de Volumen\n",
    "\n",
    "# Si predict_values es un DataFrame o un array bidimensional, también aplana:\n",
    "if predict_values.ndim > 1:\n",
    "    predict_values = predict_values[:, 0]\n",
    "\n",
    "# Gráfico de dispersión de los valores reales vs. predichos\n",
    "plt.figure(figsize=(12, 6))\n",
    "sns.scatterplot(x=real_values, y=predict_values, alpha=0.6)\n",
    "sns.lineplot(x=real_values, y=real_values, color='red')  # Línea de identidad (perfecta predicción)\n",
    "plt.xlabel('Valores Reales')\n",
    "plt.ylabel('Valores Predichos')\n",
    "plt.title('Valores Reales vs. Valores Predichos')\n",
    "plt.grid(True)\n",
    "plt.show()\n"
   ]
  },
  {
   "cell_type": "markdown",
   "metadata": {},
   "source": [
    "Importamos la clase para metricas"
   ]
  },
  {
   "cell_type": "code",
   "execution_count": null,
   "metadata": {},
   "outputs": [
    {
     "ename": "NameError",
     "evalue": "name 'real_values' is not defined",
     "output_type": "error",
     "traceback": [
      "\u001b[1;31m---------------------------------------------------------------------------\u001b[0m",
      "\u001b[1;31mNameError\u001b[0m                                 Traceback (most recent call last)",
      "\u001b[1;32mc:\\Users\\carlo\\Desktop\\Maestria\\MachineLearning\\Tarea Extra 1\\EXTRA.ipynb Cell 17\u001b[0m line \u001b[0;36m3\n\u001b[0;32m      <a href='vscode-notebook-cell:/c%3A/Users/carlo/Desktop/Maestria/MachineLearning/Tarea%20Extra%201/EXTRA.ipynb#X22sZmlsZQ%3D%3D?line=0'>1</a>\u001b[0m \u001b[39mfrom\u001b[39;00m \u001b[39mmetricas\u001b[39;00m \u001b[39mimport\u001b[39;00m Metricas \n\u001b[1;32m----> <a href='vscode-notebook-cell:/c%3A/Users/carlo/Desktop/Maestria/MachineLearning/Tarea%20Extra%201/EXTRA.ipynb#X22sZmlsZQ%3D%3D?line=2'>3</a>\u001b[0m metricas\u001b[39m=\u001b[39m Metricas(real_values, predict_values)\n\u001b[0;32m      <a href='vscode-notebook-cell:/c%3A/Users/carlo/Desktop/Maestria/MachineLearning/Tarea%20Extra%201/EXTRA.ipynb#X22sZmlsZQ%3D%3D?line=3'>4</a>\u001b[0m metricas\u001b[39m.\u001b[39mmean_square()\n\u001b[0;32m      <a href='vscode-notebook-cell:/c%3A/Users/carlo/Desktop/Maestria/MachineLearning/Tarea%20Extra%201/EXTRA.ipynb#X22sZmlsZQ%3D%3D?line=4'>5</a>\u001b[0m metricas\u001b[39m.\u001b[39mroot_mean_square()\n",
      "\u001b[1;31mNameError\u001b[0m: name 'real_values' is not defined"
     ]
    }
   ],
   "source": [
    "from metricas import Metricas \n",
    "\n",
    "metricas= Metricas(real_values, predict_values)\n",
    "metricas.mean_square()\n",
    "metricas.root_mean_square()\n",
    "metricas.mean_absolute()\n",
    "metricas.relative_square()\n",
    "metricas.relative_absolute()\n",
    "metricas.correlation_coeficient()\n",
    "metricas.determination_coeficient()\n",
    "metricas.chi_square()"
   ]
  },
  {
   "cell_type": "markdown",
   "metadata": {},
   "source": []
  },
  {
   "cell_type": "markdown",
   "metadata": {},
   "source": [
    "#"
   ]
  }
 ],
 "metadata": {
  "kernelspec": {
   "display_name": "tf",
   "language": "python",
   "name": "python3"
  },
  "language_info": {
   "codemirror_mode": {
    "name": "ipython",
    "version": 3
   },
   "file_extension": ".py",
   "mimetype": "text/x-python",
   "name": "python",
   "nbconvert_exporter": "python",
   "pygments_lexer": "ipython3",
   "version": "3.8.8"
  },
  "orig_nbformat": 4
 },
 "nbformat": 4,
 "nbformat_minor": 2
}
